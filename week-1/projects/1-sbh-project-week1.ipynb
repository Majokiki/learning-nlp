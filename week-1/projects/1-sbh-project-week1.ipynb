{
 "cells": [
  {
   "cell_type": "markdown",
   "metadata": {},
   "source": [
    "# Project Week 1"
   ]
  },
  {
   "cell_type": "code",
   "execution_count": 20,
   "metadata": {},
   "outputs": [],
   "source": [
    "import pandas as pd\n",
    "import numpy as np\n",
    "import nltk\n",
    "import matplotlib.pyplot as plt\n",
    "import seaborn as sns\n",
    "import nltk.tokenize as tokenize\n",
    "from pprint import pprint"
   ]
  },
  {
   "cell_type": "code",
   "execution_count": 2,
   "metadata": {},
   "outputs": [],
   "source": [
    "corpus = pd.read_csv('data/dataset_sms_spam _v1.csv', names=['text', 'label'], header=0)"
   ]
  },
  {
   "cell_type": "code",
   "execution_count": 3,
   "metadata": {},
   "outputs": [
    {
     "data": {
      "text/plain": [
       "(1143, 2)"
      ]
     },
     "execution_count": 3,
     "metadata": {},
     "output_type": "execute_result"
    }
   ],
   "source": [
    "corpus.shape"
   ]
  },
  {
   "cell_type": "code",
   "execution_count": 4,
   "metadata": {},
   "outputs": [],
   "source": [
    "id2label = {\n",
    "    0: 'normal',\n",
    "    1: 'fraud',\n",
    "    2: 'promo',\n",
    "}"
   ]
  },
  {
   "cell_type": "code",
   "execution_count": 5,
   "metadata": {},
   "outputs": [
    {
     "data": {
      "text/plain": [
       "0    [PROMO] Beli paket Flash mulai 1GB di MY TELKO...\n",
       "1    2.5 GB/30 hari hanya Rp 35 Ribu Spesial buat A...\n",
       "2    2016-07-08 11:47:11.Plg Yth, sisa kuota Flash ...\n",
       "3    2016-08-07 11:29:47.Plg Yth, sisa kuota Flash ...\n",
       "4    4.5GB/30 hari hanya Rp 55 Ribu Spesial buat an...\n",
       "5    5 HARI LAGI ! EKSTRA Pulsa 50rb dg beli paket ...\n",
       "Name: text, dtype: object"
      ]
     },
     "execution_count": 5,
     "metadata": {},
     "output_type": "execute_result"
    }
   ],
   "source": [
    "corpus.loc[:5, 'text']"
   ]
  },
  {
   "cell_type": "code",
   "execution_count": 7,
   "metadata": {},
   "outputs": [
    {
     "data": {
      "image/png": "[encoded data removed]",
      "text/plain": [
       "<Figure size 432x288 with 1 Axes>"
      ]
     },
     "metadata": {
      "needs_background": "light"
     },
     "output_type": "display_data"
    }
   ],
   "source": [
    "sns.countplot(x='label', data=corpus)\n",
    "plt.show()"
   ]
  },
  {
   "cell_type": "code",
   "execution_count": 19,
   "metadata": {},
   "outputs": [],
   "source": [
    "normal = corpus.loc[corpus['label']==0, 'text'].reset_index(drop=True)\n",
    "fraud = corpus.loc[corpus['label']==1, 'text'].reset_index(drop=True)\n",
    "promo = corpus.loc[corpus['label']==2, 'text'].reset_index(drop=True)"
   ]
  },
  {
   "cell_type": "code",
   "execution_count": 29,
   "metadata": {},
   "outputs": [
    {
     "data": {
      "text/plain": [
       "'[Akademik] Untuk perhatian tuk jadwal kontrak kuliah buat ang 2012 itu bukan sebenarny, kuliah ikut jadwal kur yg baru ang 2013 ato keatas 2014,2015,2016.. sehingga jadwal yg ada adalah jadwal bayangan tuk tujuan kontrak kuliah..Hal diatas ga berlaku tuk mk yg memang berjalan di ang kalian spt skripsi dan sidang..demikian harap diperhatikan..'"
      ]
     },
     "execution_count": 29,
     "metadata": {},
     "output_type": "execute_result"
    }
   ],
   "source": [
    "normal[4]"
   ]
  },
  {
   "cell_type": "code",
   "execution_count": 43,
   "metadata": {},
   "outputs": [
    {
     "data": {
      "text/plain": [
       "['[',\n",
       " 'Akademik',\n",
       " ']',\n",
       " 'Untuk',\n",
       " 'perhatian',\n",
       " 'tuk',\n",
       " 'jadwal',\n",
       " 'kontrak',\n",
       " 'kuliah',\n",
       " 'buat',\n",
       " 'ang',\n",
       " '2012',\n",
       " 'itu',\n",
       " 'bukan',\n",
       " 'sebenarny',\n",
       " ',',\n",
       " 'kuliah',\n",
       " 'ikut',\n",
       " 'jadwal',\n",
       " 'kur',\n",
       " 'yg',\n",
       " 'baru',\n",
       " 'ang',\n",
       " '2013',\n",
       " 'ato',\n",
       " 'keatas',\n",
       " '2014',\n",
       " ',',\n",
       " '2015',\n",
       " ',',\n",
       " '2016',\n",
       " '..',\n",
       " 'sehingga',\n",
       " 'jadwal',\n",
       " 'yg',\n",
       " 'ada',\n",
       " 'adalah',\n",
       " 'jadwal',\n",
       " 'bayangan',\n",
       " 'tuk',\n",
       " 'tujuan',\n",
       " 'kontrak',\n",
       " 'kuliah',\n",
       " '..',\n",
       " 'Hal',\n",
       " 'diatas',\n",
       " 'ga',\n",
       " 'berlaku',\n",
       " 'tuk',\n",
       " 'mk',\n",
       " 'yg',\n",
       " 'memang',\n",
       " 'berjalan',\n",
       " 'di',\n",
       " 'ang',\n",
       " 'kalian',\n",
       " 'spt',\n",
       " 'skripsi',\n",
       " 'dan',\n",
       " 'sidang',\n",
       " '..',\n",
       " 'demikian',\n",
       " 'harap',\n",
       " 'diperhatikan',\n",
       " '..']"
      ]
     },
     "execution_count": 43,
     "metadata": {},
     "output_type": "execute_result"
    }
   ],
   "source": [
    "tokenize.wordpunct_tokenize(normal[4])"
   ]
  }
 ],
 "metadata": {
  "kernelspec": {
   "display_name": "Python 3",
   "language": "python",
   "name": "python3"
  },
  "language_info": {
   "codemirror_mode": {
    "name": "ipython",
    "version": 3
   },
   "file_extension": ".py",
   "mimetype": "text/x-python",
   "name": "python",
   "nbconvert_exporter": "python",
   "pygments_lexer": "ipython3",
   "version": "3.6.0"
  }
 },
 "nbformat": 4,
 "nbformat_minor": 4
}
